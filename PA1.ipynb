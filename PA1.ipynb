{
 "cells": [
  {
   "cell_type": "markdown",
   "id": "d2660624-cbc1-4882-b6b1-b4bae27dc914",
   "metadata": {},
   "source": [
    "# ALPHABET SOUP PROBLEM"
   ]
  },
  {
   "cell_type": "code",
   "execution_count": 1,
   "id": "b791a2b4-0982-4886-91ca-29124f7b890c",
   "metadata": {},
   "outputs": [
    {
     "name": "stdout",
     "output_type": "stream",
     "text": [
      "ahjosu\n"
     ]
    }
   ],
   "source": [
    "# Define a function called alpha that takes a string input 'x'\n",
    "def alpha(x):\n",
    "    # Sort the characters in the string 'x' alphabetically\n",
    "    return ''.join(sorted(x))\n",
    "\n",
    "# Test the function by passing the string 'joshua'\n",
    "print(alpha('joshua'))  # Output: 'ahjous'\n"
   ]
  },
  {
   "cell_type": "markdown",
   "id": "6b2b4fca-ce6b-4c27-adcd-47cf1ecaacb8",
   "metadata": {},
   "source": [
    "# EMOTICON PROBLEM"
   ]
  },
  {
   "cell_type": "code",
   "execution_count": 10,
   "id": "9c8bffeb-2f5d-4c9c-b754-f5ece1af8a51",
   "metadata": {},
   "outputs": [
    {
     "name": "stdout",
     "output_type": "stream",
     "text": [
      "I am :)\n"
     ]
    }
   ],
   "source": [
    "# Define a function called remoticon that takes a string input 'sentence'\n",
    "def remoticon(sentence):\n",
    "    # Create a dictionary that maps words to their corresponding emoticons\n",
    "    emo_dict = {\n",
    "        'smile': ':)',\n",
    "        'grin': ':D',\n",
    "        'sad': ':((',\n",
    "        'mad': '>:('\n",
    "    }\n",
    "    \n",
    "    # Loop through each word–emoticon pair in the dictionary\n",
    "    for word, emoticon in emo_dict.items():\n",
    "        # Replace occurrences of the word in the sentence with its emoticon\n",
    "        sentence = sentence.replace(word, emoticon)\n",
    "    \n",
    "    # Return the updated sentence with emoticons\n",
    "    return sentence\n",
    "\n",
    "# Test the function with an example input\n",
    "print(remoticon('I am smile'))  # Output: I am :)\n"
   ]
  },
  {
   "cell_type": "markdown",
   "id": "e049e291-e8be-4786-8eef-8da5a13f12d0",
   "metadata": {},
   "source": [
    "# UNPACKING LIST PROBLEM"
   ]
  },
  {
   "cell_type": "code",
   "execution_count": 3,
   "id": "73389ee5-6612-4526-a8b8-fa7bea494fa7",
   "metadata": {},
   "outputs": [
    {
     "name": "stdout",
     "output_type": "stream",
     "text": [
      "First: 1\n",
      "\n",
      "Middle: [2, 3, 4, 5]\n",
      "\n",
      "last: 6\n",
      "\n"
     ]
    }
   ],
   "source": [
    "# Create a list with numbers from 1 to 6\n",
    "writeyourcodehere = [1, 2, 3, 4, 5, 6]\n",
    "\n",
    "\n",
    "# 'first' gets the first element\n",
    "# 'last' gets the last element\n",
    "# '*middle' collects all remaining elements in between\n",
    "first, *middle, last = writeyourcodehere\n",
    "\n",
    "# Print the first element\n",
    "print('First:', first)\n",
    "print()\n",
    "\n",
    "# Print the middle elements as a list\n",
    "print('Middle:', middle)\n",
    "print()\n",
    "\n",
    "# Print the last element\n",
    "print('last:', last)\n",
    "print()\n"
   ]
  },
  {
   "cell_type": "code",
   "execution_count": null,
   "id": "d9a639a7-7bc5-461d-bf2f-f1ea36a381e1",
   "metadata": {},
   "outputs": [],
   "source": []
  }
 ],
 "metadata": {
  "kernelspec": {
   "display_name": "Python 3 (ipykernel)",
   "language": "python",
   "name": "python3"
  },
  "language_info": {
   "codemirror_mode": {
    "name": "ipython",
    "version": 3
   },
   "file_extension": ".py",
   "mimetype": "text/x-python",
   "name": "python",
   "nbconvert_exporter": "python",
   "pygments_lexer": "ipython3",
   "version": "3.13.5"
  }
 },
 "nbformat": 4,
 "nbformat_minor": 5
}
